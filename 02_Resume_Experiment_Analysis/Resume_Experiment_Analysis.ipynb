{
 "cells": [
  {
   "cell_type": "markdown",
   "metadata": {},
   "source": [
    "# Resume Experiment Analysis"
   ]
  },
  {
   "cell_type": "markdown",
   "metadata": {},
   "source": [
    "Assignment descriptions: https://www.unifyingdatascience.org/html/exercises/exercise_resume.html"
   ]
  },
  {
   "cell_type": "markdown",
   "metadata": {},
   "source": [
    "## Checking for Balance"
   ]
  },
  {
   "cell_type": "markdown",
   "metadata": {},
   "source": [
    "### Exercise 1"
   ]
  },
  {
   "cell_type": "markdown",
   "metadata": {},
   "source": [
    "Check for balance in terms of applicant gender (female), computer skills (computerskills), and years of experience (yearsexp) across the two arms of the experiment (i.e. by black). Calculate both the differences across treatment arms and test for statistical significance of these differences. Do gender and computer skills look balanced across race groups? (1 point)"
   ]
  },
  {
   "cell_type": "code",
   "execution_count": 1,
   "metadata": {},
   "outputs": [],
   "source": [
    "import pandas as pd\n",
    "import numpy as np\n",
    "from scipy import stats\n",
    "from sklearn.linear_model import LinearRegression"
   ]
  },
  {
   "cell_type": "code",
   "execution_count": 2,
   "metadata": {},
   "outputs": [
    {
     "data": {
      "text/html": [
       "<div>\n",
       "<style scoped>\n",
       "    .dataframe tbody tr th:only-of-type {\n",
       "        vertical-align: middle;\n",
       "    }\n",
       "\n",
       "    .dataframe tbody tr th {\n",
       "        vertical-align: top;\n",
       "    }\n",
       "\n",
       "    .dataframe thead th {\n",
       "        text-align: right;\n",
       "    }\n",
       "</style>\n",
       "<table border=\"1\" class=\"dataframe\">\n",
       "  <thead>\n",
       "    <tr style=\"text-align: right;\">\n",
       "      <th></th>\n",
       "      <th>education</th>\n",
       "      <th>ofjobs</th>\n",
       "      <th>yearsexp</th>\n",
       "      <th>computerskills</th>\n",
       "      <th>call</th>\n",
       "      <th>female</th>\n",
       "      <th>black</th>\n",
       "    </tr>\n",
       "  </thead>\n",
       "  <tbody>\n",
       "    <tr>\n",
       "      <th>0</th>\n",
       "      <td>4</td>\n",
       "      <td>2</td>\n",
       "      <td>6</td>\n",
       "      <td>1</td>\n",
       "      <td>0.0</td>\n",
       "      <td>1.0</td>\n",
       "      <td>0.0</td>\n",
       "    </tr>\n",
       "    <tr>\n",
       "      <th>1</th>\n",
       "      <td>3</td>\n",
       "      <td>3</td>\n",
       "      <td>6</td>\n",
       "      <td>1</td>\n",
       "      <td>0.0</td>\n",
       "      <td>1.0</td>\n",
       "      <td>0.0</td>\n",
       "    </tr>\n",
       "    <tr>\n",
       "      <th>2</th>\n",
       "      <td>4</td>\n",
       "      <td>1</td>\n",
       "      <td>6</td>\n",
       "      <td>1</td>\n",
       "      <td>0.0</td>\n",
       "      <td>1.0</td>\n",
       "      <td>1.0</td>\n",
       "    </tr>\n",
       "    <tr>\n",
       "      <th>3</th>\n",
       "      <td>3</td>\n",
       "      <td>4</td>\n",
       "      <td>6</td>\n",
       "      <td>1</td>\n",
       "      <td>0.0</td>\n",
       "      <td>1.0</td>\n",
       "      <td>1.0</td>\n",
       "    </tr>\n",
       "    <tr>\n",
       "      <th>4</th>\n",
       "      <td>3</td>\n",
       "      <td>3</td>\n",
       "      <td>22</td>\n",
       "      <td>1</td>\n",
       "      <td>0.0</td>\n",
       "      <td>1.0</td>\n",
       "      <td>0.0</td>\n",
       "    </tr>\n",
       "  </tbody>\n",
       "</table>\n",
       "</div>"
      ],
      "text/plain": [
       "   education  ofjobs  yearsexp  computerskills  call  female  black\n",
       "0          4       2         6               1   0.0     1.0    0.0\n",
       "1          3       3         6               1   0.0     1.0    0.0\n",
       "2          4       1         6               1   0.0     1.0    1.0\n",
       "3          3       4         6               1   0.0     1.0    1.0\n",
       "4          3       3        22               1   0.0     1.0    0.0"
      ]
     },
     "execution_count": 2,
     "metadata": {},
     "output_type": "execute_result"
    }
   ],
   "source": [
    "df = pd.read_stata(\"resume_experiment.dta\")\n",
    "df.head()"
   ]
  },
  {
   "cell_type": "code",
   "execution_count": 3,
   "metadata": {},
   "outputs": [],
   "source": [
    "treat = df[df['black'] == 1]\n",
    "ctrl = df[df['black'] == 0]"
   ]
  },
  {
   "cell_type": "code",
   "execution_count": 4,
   "metadata": {},
   "outputs": [
    {
     "name": "stdout",
     "output_type": "stream",
     "text": [
      "Mean difference in terms of features across groups:\n",
      "female            0.010678\n",
      "computerskills    0.023819\n",
      "yearsexp         -0.026694\n",
      "dtype: float64\n"
     ]
    }
   ],
   "source": [
    "meanT = treat[['female', 'computerskills', 'yearsexp']].mean()\n",
    "meanC = ctrl[['female', 'computerskills', 'yearsexp']].mean()\n",
    "print('Mean difference in terms of features across groups:')\n",
    "print(meanT - meanC)"
   ]
  },
  {
   "cell_type": "code",
   "execution_count": 5,
   "metadata": {},
   "outputs": [
    {
     "name": "stdout",
     "output_type": "stream",
     "text": [
      "In terms of gender:\n",
      "Ttest_indResult(statistic=0.8841321018026016, pvalue=0.37666856909823254) \n",
      "\n",
      "In terms of computer skills:\n",
      "Ttest_indResult(statistic=2.1664271042751966, pvalue=0.030326933955391936) \n",
      "\n",
      "In terms of years of experience:\n",
      "Ttest_indResult(statistic=-0.18461970685747395, pvalue=0.8535350182481283)\n"
     ]
    }
   ],
   "source": [
    "print('In terms of gender:')\n",
    "print(stats.ttest_ind(treat['female'], ctrl['female']), '\\n')\n",
    "\n",
    "print('In terms of computer skills:')\n",
    "print(stats.ttest_ind(treat['computerskills'], ctrl['computerskills']), '\\n')\n",
    "\n",
    "print('In terms of years of experience:')\n",
    "print(stats.ttest_ind(treat['yearsexp'], ctrl['yearsexp']))"
   ]
  },
  {
   "cell_type": "markdown",
   "metadata": {},
   "source": [
    "> In particular, the feature gender can be regarded as balanced across race groups due to the large p-value of the t-test. However, the feature of computer skills may look balanced if we set the significance level to be 0.01 but may also become unbalanced if the threshold is more than 0.05."
   ]
  },
  {
   "cell_type": "markdown",
   "metadata": {},
   "source": [
    "### Exercise 2"
   ]
  },
  {
   "cell_type": "markdown",
   "metadata": {},
   "source": [
    "Do a similar tabulation for education (education). Education is a categorical variable coded as follows:\n",
    "\n",
    "* 0: Education not reported\n",
    "* 1: High school dropout\n",
    "* 2: High school graduate\n",
    "* 3: Some college\n",
    "* 4: College graduate or higher\n",
    "\n",
    "Because these are categorical, you shouldn’t just calculate and compare means – you should compare share of observations with each value separately using a ttest, or do a chi-squared test (technically chi-squared is the correct test, but I’m ok with either).\n",
    "\n",
    "Does education and the number of previous jobs look balanced across racial groups? (2 points)"
   ]
  },
  {
   "cell_type": "code",
   "execution_count": 6,
   "metadata": {},
   "outputs": [
    {
     "name": "stdout",
     "output_type": "stream",
     "text": [
      "p value is 0.4917640058792272.\n"
     ]
    }
   ],
   "source": [
    "# education\n",
    "obs1 = np.array([treat['education'].value_counts(), ctrl['education']. \\\n",
    "                 value_counts()])\n",
    "chi2, p, dof, expected = stats.chi2_contingency(obs1)\n",
    "print(f\"p value is {p}.\") "
   ]
  },
  {
   "cell_type": "code",
   "execution_count": 7,
   "metadata": {},
   "outputs": [
    {
     "name": "stdout",
     "output_type": "stream",
     "text": [
      "p value is 0.7406654986208298.\n"
     ]
    }
   ],
   "source": [
    "# number of previous jobs \n",
    "obs2 = np.array([treat['ofjobs'].value_counts(), ctrl['ofjobs']. \\\n",
    "                 value_counts()])\n",
    "stat, p, dof, expected = stats.chi2_contingency(obs2)\n",
    "print(f\"p value is {p}.\") "
   ]
  },
  {
   "cell_type": "markdown",
   "metadata": {},
   "source": [
    "> Given the large p-values (> 0.1) from both Chi-squared tests, it is safe to conclude that education and the number of previous jobs are balanced across groups."
   ]
  },
  {
   "cell_type": "markdown",
   "metadata": {},
   "source": [
    "### Exercise 3"
   ]
  },
  {
   "cell_type": "markdown",
   "metadata": {},
   "source": [
    "What do you make of the overall results on resume characteristics? Why do we care about whether these variables look similar across the race groups? (1 point)"
   ]
  },
  {
   "cell_type": "markdown",
   "metadata": {},
   "source": [
    "> Overall, the features of this resume experiment are mostly balanced except for computer skills, which can also be considered balance if we take 0.01 significance level. It is important to ensure the underlying features are balanced so that the experiment is free from selection bias. Thereby, our causal inference is valid."
   ]
  },
  {
   "cell_type": "markdown",
   "metadata": {},
   "source": [
    "## Estimating Effect of Race"
   ]
  },
  {
   "cell_type": "markdown",
   "metadata": {},
   "source": [
    "### Exercise 4"
   ]
  },
  {
   "cell_type": "markdown",
   "metadata": {},
   "source": [
    "The variable of interest in the data set is the variable call, which indicates a call back for an interview. Perform a two-sample t-test comparing applicants with black sounding names and white sounding names."
   ]
  },
  {
   "cell_type": "code",
   "execution_count": 8,
   "metadata": {},
   "outputs": [
    {
     "name": "stdout",
     "output_type": "stream",
     "text": [
      "Ttest_indResult(statistic=-4.114705290861751, pvalue=3.940802103128886e-05)\n"
     ]
    }
   ],
   "source": [
    "print(stats.ttest_ind(treat['call'], ctrl['call']))"
   ]
  },
  {
   "cell_type": "markdown",
   "metadata": {},
   "source": [
    "> The extremely low p-value indicates that the chances for Black-named applicants to receive callbacks for an interview are different from White-named applicants in this fictious experiment. "
   ]
  },
  {
   "cell_type": "markdown",
   "metadata": {},
   "source": [
    "### Exercise 5"
   ]
  },
  {
   "cell_type": "markdown",
   "metadata": {},
   "source": [
    "Now, use a regression model to estimate the differential likelihood of being called back by applicant race (i.e. the racial discrimination by employers)."
   ]
  },
  {
   "cell_type": "code",
   "execution_count": 9,
   "metadata": {},
   "outputs": [
    {
     "data": {
      "text/html": [
       "<table class=\"simpletable\">\n",
       "<caption>OLS Regression Results</caption>\n",
       "<tr>\n",
       "  <th>Dep. Variable:</th>          <td>call</td>       <th>  R-squared:         </th> <td>   0.003</td>\n",
       "</tr>\n",
       "<tr>\n",
       "  <th>Model:</th>                   <td>OLS</td>       <th>  Adj. R-squared:    </th> <td>   0.003</td>\n",
       "</tr>\n",
       "<tr>\n",
       "  <th>Method:</th>             <td>Least Squares</td>  <th>  F-statistic:       </th> <td>   16.93</td>\n",
       "</tr>\n",
       "<tr>\n",
       "  <th>Date:</th>             <td>Tue, 09 Feb 2021</td> <th>  Prob (F-statistic):</th> <td>3.94e-05</td>\n",
       "</tr>\n",
       "<tr>\n",
       "  <th>Time:</th>                 <td>17:36:39</td>     <th>  Log-Likelihood:    </th> <td> -562.24</td>\n",
       "</tr>\n",
       "<tr>\n",
       "  <th>No. Observations:</th>      <td>  4870</td>      <th>  AIC:               </th> <td>   1128.</td>\n",
       "</tr>\n",
       "<tr>\n",
       "  <th>Df Residuals:</th>          <td>  4868</td>      <th>  BIC:               </th> <td>   1141.</td>\n",
       "</tr>\n",
       "<tr>\n",
       "  <th>Df Model:</th>              <td>     1</td>      <th>                     </th>     <td> </td>   \n",
       "</tr>\n",
       "<tr>\n",
       "  <th>Covariance Type:</th>      <td>nonrobust</td>    <th>                     </th>     <td> </td>   \n",
       "</tr>\n",
       "</table>\n",
       "<table class=\"simpletable\">\n",
       "<tr>\n",
       "      <td></td>         <th>coef</th>     <th>std err</th>      <th>t</th>      <th>P>|t|</th>  <th>[0.025</th>    <th>0.975]</th>  \n",
       "</tr>\n",
       "<tr>\n",
       "  <th>Intercept</th> <td>    0.0965</td> <td>    0.006</td> <td>   17.532</td> <td> 0.000</td> <td>    0.086</td> <td>    0.107</td>\n",
       "</tr>\n",
       "<tr>\n",
       "  <th>black</th>     <td>   -0.0320</td> <td>    0.008</td> <td>   -4.115</td> <td> 0.000</td> <td>   -0.047</td> <td>   -0.017</td>\n",
       "</tr>\n",
       "</table>\n",
       "<table class=\"simpletable\">\n",
       "<tr>\n",
       "  <th>Omnibus:</th>       <td>2969.205</td> <th>  Durbin-Watson:     </th> <td>   1.440</td> \n",
       "</tr>\n",
       "<tr>\n",
       "  <th>Prob(Omnibus):</th>  <td> 0.000</td>  <th>  Jarque-Bera (JB):  </th> <td>18927.068</td>\n",
       "</tr>\n",
       "<tr>\n",
       "  <th>Skew:</th>           <td> 3.068</td>  <th>  Prob(JB):          </th> <td>    0.00</td> \n",
       "</tr>\n",
       "<tr>\n",
       "  <th>Kurtosis:</th>       <td>10.458</td>  <th>  Cond. No.          </th> <td>    2.62</td> \n",
       "</tr>\n",
       "</table><br/><br/>Notes:<br/>[1] Standard Errors assume that the covariance matrix of the errors is correctly specified."
      ],
      "text/plain": [
       "<class 'statsmodels.iolib.summary.Summary'>\n",
       "\"\"\"\n",
       "                            OLS Regression Results                            \n",
       "==============================================================================\n",
       "Dep. Variable:                   call   R-squared:                       0.003\n",
       "Model:                            OLS   Adj. R-squared:                  0.003\n",
       "Method:                 Least Squares   F-statistic:                     16.93\n",
       "Date:                Tue, 09 Feb 2021   Prob (F-statistic):           3.94e-05\n",
       "Time:                        17:36:39   Log-Likelihood:                -562.24\n",
       "No. Observations:                4870   AIC:                             1128.\n",
       "Df Residuals:                    4868   BIC:                             1141.\n",
       "Df Model:                           1                                         \n",
       "Covariance Type:            nonrobust                                         \n",
       "==============================================================================\n",
       "                 coef    std err          t      P>|t|      [0.025      0.975]\n",
       "------------------------------------------------------------------------------\n",
       "Intercept      0.0965      0.006     17.532      0.000       0.086       0.107\n",
       "black         -0.0320      0.008     -4.115      0.000      -0.047      -0.017\n",
       "==============================================================================\n",
       "Omnibus:                     2969.205   Durbin-Watson:                   1.440\n",
       "Prob(Omnibus):                  0.000   Jarque-Bera (JB):            18927.068\n",
       "Skew:                           3.068   Prob(JB):                         0.00\n",
       "Kurtosis:                      10.458   Cond. No.                         2.62\n",
       "==============================================================================\n",
       "\n",
       "Notes:\n",
       "[1] Standard Errors assume that the covariance matrix of the errors is correctly specified.\n",
       "\"\"\""
      ]
     },
     "execution_count": 9,
     "metadata": {},
     "output_type": "execute_result"
    }
   ],
   "source": [
    "import statsmodels.api as sm\n",
    "import statsmodels.formula.api as smf\n",
    "smf.ols(\"call ~ black\", df).fit().summary()"
   ]
  },
  {
   "cell_type": "markdown",
   "metadata": {},
   "source": [
    "> According to the regression model, Black-named fictitious applicants are expected to receive 0.03 less calls than White-named applicants. In this fictitious experiment, there is racial discrimination by employers."
   ]
  },
  {
   "cell_type": "markdown",
   "metadata": {},
   "source": [
    "### Exercise 6"
   ]
  },
  {
   "cell_type": "markdown",
   "metadata": {},
   "source": [
    "Now let’s see if we can improve our estimates by adding in other variables as controls. Add in education, yearsexp, female, and computerskills – be sure to treat education as a categorical variable!"
   ]
  },
  {
   "cell_type": "code",
   "execution_count": 10,
   "metadata": {},
   "outputs": [],
   "source": [
    "# treat education as a categorical variable\n",
    "df['education'] = df['education'].astype('category') "
   ]
  },
  {
   "cell_type": "code",
   "execution_count": 11,
   "metadata": {},
   "outputs": [
    {
     "data": {
      "text/html": [
       "<table class=\"simpletable\">\n",
       "<caption>OLS Regression Results</caption>\n",
       "<tr>\n",
       "  <th>Dep. Variable:</th>          <td>call</td>       <th>  R-squared:         </th> <td>   0.008</td>\n",
       "</tr>\n",
       "<tr>\n",
       "  <th>Model:</th>                   <td>OLS</td>       <th>  Adj. R-squared:    </th> <td>   0.006</td>\n",
       "</tr>\n",
       "<tr>\n",
       "  <th>Method:</th>             <td>Least Squares</td>  <th>  F-statistic:       </th> <td>   4.931</td>\n",
       "</tr>\n",
       "<tr>\n",
       "  <th>Date:</th>             <td>Tue, 09 Feb 2021</td> <th>  Prob (F-statistic):</th> <td>4.30e-06</td>\n",
       "</tr>\n",
       "<tr>\n",
       "  <th>Time:</th>                 <td>17:36:39</td>     <th>  Log-Likelihood:    </th> <td> -551.02</td>\n",
       "</tr>\n",
       "<tr>\n",
       "  <th>No. Observations:</th>      <td>  4870</td>      <th>  AIC:               </th> <td>   1120.</td>\n",
       "</tr>\n",
       "<tr>\n",
       "  <th>Df Residuals:</th>          <td>  4861</td>      <th>  BIC:               </th> <td>   1178.</td>\n",
       "</tr>\n",
       "<tr>\n",
       "  <th>Df Model:</th>              <td>     8</td>      <th>                     </th>     <td> </td>   \n",
       "</tr>\n",
       "<tr>\n",
       "  <th>Covariance Type:</th>      <td>nonrobust</td>    <th>                     </th>     <td> </td>   \n",
       "</tr>\n",
       "</table>\n",
       "<table class=\"simpletable\">\n",
       "<tr>\n",
       "         <td></td>           <th>coef</th>     <th>std err</th>      <th>t</th>      <th>P>|t|</th>  <th>[0.025</th>    <th>0.975]</th>  \n",
       "</tr>\n",
       "<tr>\n",
       "  <th>Intercept</th>      <td>    0.0821</td> <td>    0.042</td> <td>    1.957</td> <td> 0.050</td> <td>   -0.000</td> <td>    0.164</td>\n",
       "</tr>\n",
       "<tr>\n",
       "  <th>education[T.1]</th> <td>   -0.0017</td> <td>    0.059</td> <td>   -0.029</td> <td> 0.977</td> <td>   -0.117</td> <td>    0.113</td>\n",
       "</tr>\n",
       "<tr>\n",
       "  <th>education[T.2]</th> <td>-8.953e-05</td> <td>    0.044</td> <td>   -0.002</td> <td> 0.998</td> <td>   -0.086</td> <td>    0.085</td>\n",
       "</tr>\n",
       "<tr>\n",
       "  <th>education[T.3]</th> <td>   -0.0025</td> <td>    0.041</td> <td>   -0.061</td> <td> 0.951</td> <td>   -0.083</td> <td>    0.078</td>\n",
       "</tr>\n",
       "<tr>\n",
       "  <th>education[T.4]</th> <td>   -0.0047</td> <td>    0.040</td> <td>   -0.117</td> <td> 0.907</td> <td>   -0.084</td> <td>    0.074</td>\n",
       "</tr>\n",
       "<tr>\n",
       "  <th>black</th>          <td>   -0.0316</td> <td>    0.008</td> <td>   -4.064</td> <td> 0.000</td> <td>   -0.047</td> <td>   -0.016</td>\n",
       "</tr>\n",
       "<tr>\n",
       "  <th>yearsexp</th>       <td>    0.0032</td> <td>    0.001</td> <td>    4.067</td> <td> 0.000</td> <td>    0.002</td> <td>    0.005</td>\n",
       "</tr>\n",
       "<tr>\n",
       "  <th>female</th>         <td>    0.0112</td> <td>    0.010</td> <td>    1.153</td> <td> 0.249</td> <td>   -0.008</td> <td>    0.030</td>\n",
       "</tr>\n",
       "<tr>\n",
       "  <th>computerskills</th> <td>   -0.0186</td> <td>    0.011</td> <td>   -1.743</td> <td> 0.081</td> <td>   -0.039</td> <td>    0.002</td>\n",
       "</tr>\n",
       "</table>\n",
       "<table class=\"simpletable\">\n",
       "<tr>\n",
       "  <th>Omnibus:</th>       <td>2950.646</td> <th>  Durbin-Watson:     </th> <td>   1.448</td> \n",
       "</tr>\n",
       "<tr>\n",
       "  <th>Prob(Omnibus):</th>  <td> 0.000</td>  <th>  Jarque-Bera (JB):  </th> <td>18631.250</td>\n",
       "</tr>\n",
       "<tr>\n",
       "  <th>Skew:</th>           <td> 3.047</td>  <th>  Prob(JB):          </th> <td>    0.00</td> \n",
       "</tr>\n",
       "<tr>\n",
       "  <th>Kurtosis:</th>       <td>10.395</td>  <th>  Cond. No.          </th> <td>    225.</td> \n",
       "</tr>\n",
       "</table><br/><br/>Notes:<br/>[1] Standard Errors assume that the covariance matrix of the errors is correctly specified."
      ],
      "text/plain": [
       "<class 'statsmodels.iolib.summary.Summary'>\n",
       "\"\"\"\n",
       "                            OLS Regression Results                            \n",
       "==============================================================================\n",
       "Dep. Variable:                   call   R-squared:                       0.008\n",
       "Model:                            OLS   Adj. R-squared:                  0.006\n",
       "Method:                 Least Squares   F-statistic:                     4.931\n",
       "Date:                Tue, 09 Feb 2021   Prob (F-statistic):           4.30e-06\n",
       "Time:                        17:36:39   Log-Likelihood:                -551.02\n",
       "No. Observations:                4870   AIC:                             1120.\n",
       "Df Residuals:                    4861   BIC:                             1178.\n",
       "Df Model:                           8                                         \n",
       "Covariance Type:            nonrobust                                         \n",
       "==================================================================================\n",
       "                     coef    std err          t      P>|t|      [0.025      0.975]\n",
       "----------------------------------------------------------------------------------\n",
       "Intercept          0.0821      0.042      1.957      0.050      -0.000       0.164\n",
       "education[T.1]    -0.0017      0.059     -0.029      0.977      -0.117       0.113\n",
       "education[T.2] -8.953e-05      0.044     -0.002      0.998      -0.086       0.085\n",
       "education[T.3]    -0.0025      0.041     -0.061      0.951      -0.083       0.078\n",
       "education[T.4]    -0.0047      0.040     -0.117      0.907      -0.084       0.074\n",
       "black             -0.0316      0.008     -4.064      0.000      -0.047      -0.016\n",
       "yearsexp           0.0032      0.001      4.067      0.000       0.002       0.005\n",
       "female             0.0112      0.010      1.153      0.249      -0.008       0.030\n",
       "computerskills    -0.0186      0.011     -1.743      0.081      -0.039       0.002\n",
       "==============================================================================\n",
       "Omnibus:                     2950.646   Durbin-Watson:                   1.448\n",
       "Prob(Omnibus):                  0.000   Jarque-Bera (JB):            18631.250\n",
       "Skew:                           3.047   Prob(JB):                         0.00\n",
       "Kurtosis:                      10.395   Cond. No.                         225.\n",
       "==============================================================================\n",
       "\n",
       "Notes:\n",
       "[1] Standard Errors assume that the covariance matrix of the errors is correctly specified.\n",
       "\"\"\""
      ]
     },
     "execution_count": 11,
     "metadata": {},
     "output_type": "execute_result"
    }
   ],
   "source": [
    "smf.ols(\"call ~ black + education + yearsexp + female + computerskills\", df) \\\n",
    "                .fit().summary()"
   ]
  },
  {
   "cell_type": "markdown",
   "metadata": {},
   "source": [
    "> It is found that the standard error of the black feature remains as 0.008 with more covariates added. Also, the 95% confidence interval of estimated black variable remains approximately the same. Therefore, the estimation in terms of racial effects is not improved. However, the adjusted R-squared increases from 0.003 to 0.006, which suggests improved fitting generally."
   ]
  },
  {
   "cell_type": "markdown",
   "metadata": {},
   "source": [
    "## Estimating Heterogeneous Effects"
   ]
  },
  {
   "cell_type": "markdown",
   "metadata": {},
   "source": [
    "### Exercise 7"
   ]
  },
  {
   "cell_type": "markdown",
   "metadata": {},
   "source": [
    "These effects are the average effects. Now let’s look for heterogeneous treatment effects.\n",
    "\n",
    "Look only at candidates with high educations. Is there more or less racial discrimination among these highly educated candidates?"
   ]
  },
  {
   "cell_type": "markdown",
   "metadata": {},
   "source": [
    "> Let's assume applicants with college degrees are candidates with high educations."
   ]
  },
  {
   "cell_type": "code",
   "execution_count": 12,
   "metadata": {},
   "outputs": [
    {
     "data": {
      "text/html": [
       "<div>\n",
       "<style scoped>\n",
       "    .dataframe tbody tr th:only-of-type {\n",
       "        vertical-align: middle;\n",
       "    }\n",
       "\n",
       "    .dataframe tbody tr th {\n",
       "        vertical-align: top;\n",
       "    }\n",
       "\n",
       "    .dataframe thead th {\n",
       "        text-align: right;\n",
       "    }\n",
       "</style>\n",
       "<table border=\"1\" class=\"dataframe\">\n",
       "  <thead>\n",
       "    <tr style=\"text-align: right;\">\n",
       "      <th></th>\n",
       "      <th>education</th>\n",
       "      <th>ofjobs</th>\n",
       "      <th>yearsexp</th>\n",
       "      <th>computerskills</th>\n",
       "      <th>call</th>\n",
       "      <th>female</th>\n",
       "      <th>black</th>\n",
       "    </tr>\n",
       "  </thead>\n",
       "  <tbody>\n",
       "    <tr>\n",
       "      <th>0</th>\n",
       "      <td>4</td>\n",
       "      <td>2</td>\n",
       "      <td>6</td>\n",
       "      <td>1</td>\n",
       "      <td>0.0</td>\n",
       "      <td>1.0</td>\n",
       "      <td>0.0</td>\n",
       "    </tr>\n",
       "    <tr>\n",
       "      <th>1</th>\n",
       "      <td>3</td>\n",
       "      <td>3</td>\n",
       "      <td>6</td>\n",
       "      <td>1</td>\n",
       "      <td>0.0</td>\n",
       "      <td>1.0</td>\n",
       "      <td>0.0</td>\n",
       "    </tr>\n",
       "    <tr>\n",
       "      <th>2</th>\n",
       "      <td>4</td>\n",
       "      <td>1</td>\n",
       "      <td>6</td>\n",
       "      <td>1</td>\n",
       "      <td>0.0</td>\n",
       "      <td>1.0</td>\n",
       "      <td>1.0</td>\n",
       "    </tr>\n",
       "    <tr>\n",
       "      <th>3</th>\n",
       "      <td>3</td>\n",
       "      <td>4</td>\n",
       "      <td>6</td>\n",
       "      <td>1</td>\n",
       "      <td>0.0</td>\n",
       "      <td>1.0</td>\n",
       "      <td>1.0</td>\n",
       "    </tr>\n",
       "    <tr>\n",
       "      <th>4</th>\n",
       "      <td>3</td>\n",
       "      <td>3</td>\n",
       "      <td>22</td>\n",
       "      <td>1</td>\n",
       "      <td>0.0</td>\n",
       "      <td>1.0</td>\n",
       "      <td>0.0</td>\n",
       "    </tr>\n",
       "  </tbody>\n",
       "</table>\n",
       "</div>"
      ],
      "text/plain": [
       "  education  ofjobs  yearsexp  computerskills  call  female  black\n",
       "0         4       2         6               1   0.0     1.0    0.0\n",
       "1         3       3         6               1   0.0     1.0    0.0\n",
       "2         4       1         6               1   0.0     1.0    1.0\n",
       "3         3       4         6               1   0.0     1.0    1.0\n",
       "4         3       3        22               1   0.0     1.0    0.0"
      ]
     },
     "execution_count": 12,
     "metadata": {},
     "output_type": "execute_result"
    }
   ],
   "source": [
    "high = df[(df['education'] == 3) | (df['education'] == 4)]\n",
    "high.head()"
   ]
  },
  {
   "cell_type": "code",
   "execution_count": 13,
   "metadata": {},
   "outputs": [
    {
     "data": {
      "text/html": [
       "<table class=\"simpletable\">\n",
       "<caption>OLS Regression Results</caption>\n",
       "<tr>\n",
       "  <th>Dep. Variable:</th>          <td>call</td>       <th>  R-squared:         </th> <td>   0.007</td>\n",
       "</tr>\n",
       "<tr>\n",
       "  <th>Model:</th>                   <td>OLS</td>       <th>  Adj. R-squared:    </th> <td>   0.006</td>\n",
       "</tr>\n",
       "<tr>\n",
       "  <th>Method:</th>             <td>Least Squares</td>  <th>  F-statistic:       </th> <td>   6.795</td>\n",
       "</tr>\n",
       "<tr>\n",
       "  <th>Date:</th>             <td>Tue, 09 Feb 2021</td> <th>  Prob (F-statistic):</th> <td>2.54e-06</td>\n",
       "</tr>\n",
       "<tr>\n",
       "  <th>Time:</th>                 <td>17:36:39</td>     <th>  Log-Likelihood:    </th> <td> -500.06</td>\n",
       "</tr>\n",
       "<tr>\n",
       "  <th>No. Observations:</th>      <td>  4510</td>      <th>  AIC:               </th> <td>   1012.</td>\n",
       "</tr>\n",
       "<tr>\n",
       "  <th>Df Residuals:</th>          <td>  4504</td>      <th>  BIC:               </th> <td>   1051.</td>\n",
       "</tr>\n",
       "<tr>\n",
       "  <th>Df Model:</th>              <td>     5</td>      <th>                     </th>     <td> </td>   \n",
       "</tr>\n",
       "<tr>\n",
       "  <th>Covariance Type:</th>      <td>nonrobust</td>    <th>                     </th>     <td> </td>   \n",
       "</tr>\n",
       "</table>\n",
       "<table class=\"simpletable\">\n",
       "<tr>\n",
       "         <td></td>           <th>coef</th>     <th>std err</th>      <th>t</th>      <th>P>|t|</th>  <th>[0.025</th>    <th>0.975]</th>  \n",
       "</tr>\n",
       "<tr>\n",
       "  <th>Intercept</th>      <td>    0.0504</td> <td>    0.010</td> <td>    5.069</td> <td> 0.000</td> <td>    0.031</td> <td>    0.070</td>\n",
       "</tr>\n",
       "<tr>\n",
       "  <th>education[T.1]</th> <td> 1.671e-16</td> <td> 3.39e-17</td> <td>    4.925</td> <td> 0.000</td> <td> 1.01e-16</td> <td> 2.34e-16</td>\n",
       "</tr>\n",
       "<tr>\n",
       "  <th>education[T.2]</th> <td> 1.263e-17</td> <td>  2.8e-18</td> <td>    4.515</td> <td> 0.000</td> <td> 7.15e-18</td> <td> 1.81e-17</td>\n",
       "</tr>\n",
       "<tr>\n",
       "  <th>education[T.3]</th> <td>    0.0256</td> <td>    0.008</td> <td>    3.082</td> <td> 0.002</td> <td>    0.009</td> <td>    0.042</td>\n",
       "</tr>\n",
       "<tr>\n",
       "  <th>education[T.4]</th> <td>    0.0248</td> <td>    0.006</td> <td>    4.453</td> <td> 0.000</td> <td>    0.014</td> <td>    0.036</td>\n",
       "</tr>\n",
       "<tr>\n",
       "  <th>black</th>          <td>   -0.0329</td> <td>    0.008</td> <td>   -4.079</td> <td> 0.000</td> <td>   -0.049</td> <td>   -0.017</td>\n",
       "</tr>\n",
       "<tr>\n",
       "  <th>yearsexp</th>       <td>    0.0028</td> <td>    0.001</td> <td>    3.475</td> <td> 0.001</td> <td>    0.001</td> <td>    0.004</td>\n",
       "</tr>\n",
       "<tr>\n",
       "  <th>female</th>         <td>    0.0164</td> <td>    0.010</td> <td>    1.611</td> <td> 0.107</td> <td>   -0.004</td> <td>    0.036</td>\n",
       "</tr>\n",
       "<tr>\n",
       "  <th>computerskills</th> <td>   -0.0163</td> <td>    0.011</td> <td>   -1.449</td> <td> 0.147</td> <td>   -0.038</td> <td>    0.006</td>\n",
       "</tr>\n",
       "</table>\n",
       "<table class=\"simpletable\">\n",
       "<tr>\n",
       "  <th>Omnibus:</th>       <td>2747.273</td> <th>  Durbin-Watson:     </th> <td>   1.444</td> \n",
       "</tr>\n",
       "<tr>\n",
       "  <th>Prob(Omnibus):</th>  <td> 0.000</td>  <th>  Jarque-Bera (JB):  </th> <td>17523.786</td>\n",
       "</tr>\n",
       "<tr>\n",
       "  <th>Skew:</th>           <td> 3.061</td>  <th>  Prob(JB):          </th> <td>    0.00</td> \n",
       "</tr>\n",
       "<tr>\n",
       "  <th>Kurtosis:</th>       <td>10.469</td>  <th>  Cond. No.          </th> <td>5.43e+17</td> \n",
       "</tr>\n",
       "</table><br/><br/>Notes:<br/>[1] Standard Errors assume that the covariance matrix of the errors is correctly specified.<br/>[2] The smallest eigenvalue is 1.36e-30. This might indicate that there are<br/>strong multicollinearity problems or that the design matrix is singular."
      ],
      "text/plain": [
       "<class 'statsmodels.iolib.summary.Summary'>\n",
       "\"\"\"\n",
       "                            OLS Regression Results                            \n",
       "==============================================================================\n",
       "Dep. Variable:                   call   R-squared:                       0.007\n",
       "Model:                            OLS   Adj. R-squared:                  0.006\n",
       "Method:                 Least Squares   F-statistic:                     6.795\n",
       "Date:                Tue, 09 Feb 2021   Prob (F-statistic):           2.54e-06\n",
       "Time:                        17:36:39   Log-Likelihood:                -500.06\n",
       "No. Observations:                4510   AIC:                             1012.\n",
       "Df Residuals:                    4504   BIC:                             1051.\n",
       "Df Model:                           5                                         \n",
       "Covariance Type:            nonrobust                                         \n",
       "==================================================================================\n",
       "                     coef    std err          t      P>|t|      [0.025      0.975]\n",
       "----------------------------------------------------------------------------------\n",
       "Intercept          0.0504      0.010      5.069      0.000       0.031       0.070\n",
       "education[T.1]  1.671e-16   3.39e-17      4.925      0.000    1.01e-16    2.34e-16\n",
       "education[T.2]  1.263e-17    2.8e-18      4.515      0.000    7.15e-18    1.81e-17\n",
       "education[T.3]     0.0256      0.008      3.082      0.002       0.009       0.042\n",
       "education[T.4]     0.0248      0.006      4.453      0.000       0.014       0.036\n",
       "black             -0.0329      0.008     -4.079      0.000      -0.049      -0.017\n",
       "yearsexp           0.0028      0.001      3.475      0.001       0.001       0.004\n",
       "female             0.0164      0.010      1.611      0.107      -0.004       0.036\n",
       "computerskills    -0.0163      0.011     -1.449      0.147      -0.038       0.006\n",
       "==============================================================================\n",
       "Omnibus:                     2747.273   Durbin-Watson:                   1.444\n",
       "Prob(Omnibus):                  0.000   Jarque-Bera (JB):            17523.786\n",
       "Skew:                           3.061   Prob(JB):                         0.00\n",
       "Kurtosis:                      10.469   Cond. No.                     5.43e+17\n",
       "==============================================================================\n",
       "\n",
       "Notes:\n",
       "[1] Standard Errors assume that the covariance matrix of the errors is correctly specified.\n",
       "[2] The smallest eigenvalue is 1.36e-30. This might indicate that there are\n",
       "strong multicollinearity problems or that the design matrix is singular.\n",
       "\"\"\""
      ]
     },
     "execution_count": 13,
     "metadata": {},
     "output_type": "execute_result"
    }
   ],
   "source": [
    "smf.ols(\"call ~ black + education + yearsexp + female + computerskills\", high) \\\n",
    "                .fit().summary()"
   ]
  },
  {
   "cell_type": "markdown",
   "metadata": {},
   "source": [
    "> Unfortunately, racial discrimination is more severe among candidates with high education. According to the regression results, highly educated black applicants are expected to receive 0.0329 less callbacks. This means the opportunities are 4% less if black people acquire high education in this study."
   ]
  },
  {
   "cell_type": "markdown",
   "metadata": {},
   "source": [
    "### Exercise 8"
   ]
  },
  {
   "cell_type": "markdown",
   "metadata": {},
   "source": [
    "Now let’s compare men and women – is discrimination greater for Black men or Black women?"
   ]
  },
  {
   "cell_type": "markdown",
   "metadata": {},
   "source": [
    "> Given our regression results in Exercise 6, the estimated coefficient for females is positive, 0.0112, which implies women have higher chances of callbacks regardless of racial groups. Therefore, the racial discrimination for Black women and men isn't greater in terms of genders."
   ]
  },
  {
   "cell_type": "markdown",
   "metadata": {},
   "source": [
    "### Exercise 9"
   ]
  },
  {
   "cell_type": "markdown",
   "metadata": {},
   "source": [
    "Calculate and/or lookup the following online:\n",
    "\n",
    "* What is the share of applicants in our dataset with college degrees?\n",
    "* What share of Black adult Americans have college degrees (i.e. have completed a bachelors degree)?"
   ]
  },
  {
   "cell_type": "code",
   "execution_count": 14,
   "metadata": {},
   "outputs": [
    {
     "name": "stdout",
     "output_type": "stream",
     "text": [
      "The share of applicants in our dataset with college degrees is 0.9261.\n"
     ]
    }
   ],
   "source": [
    "share = round(high.shape[0]/df.shape[0], 4)\n",
    "print(f'The share of applicants in our dataset with college degrees is {share}.')"
   ]
  },
  {
   "cell_type": "code",
   "execution_count": 15,
   "metadata": {},
   "outputs": [
    {
     "name": "stdout",
     "output_type": "stream",
     "text": [
      "The share of Black adult Americans have college degrees is 0.9253.\n"
     ]
    }
   ],
   "source": [
    "treat_high = treat[(treat['education'] == 3) | (treat['education'] == 4)]\n",
    "share_treat = round(treat_high.shape[0]/treat.shape[0], 4)\n",
    "print(f'The share of Black adult Americans have college degrees is {share_treat}.')"
   ]
  },
  {
   "cell_type": "markdown",
   "metadata": {},
   "source": [
    "### Exercise 10"
   ]
  },
  {
   "cell_type": "markdown",
   "metadata": {},
   "source": [
    "What are the implications of your answers to Exercise 7 and to Exercise 9 to how you interpret the Average Treatment Effect you estimated in Exercise 6?"
   ]
  },
  {
   "cell_type": "markdown",
   "metadata": {},
   "source": [
    "> The average treatment effect of Black races on callbacks for interviews is not reduced with better educational backgrounds. It can be expected since the majority of fictious candidates in this studies have received high education, which is over 90%. And the proportion of candidates with college degrees is approximately the same within Black community and the whole population in this fictious experiment. Therefore, the estimated treatment effect of Black races looks almost the same no matter the candidates are highly educated or not."
   ]
  }
 ],
 "metadata": {
  "kernelspec": {
   "display_name": "Python 3",
   "language": "python",
   "name": "python3"
  },
  "language_info": {
   "codemirror_mode": {
    "name": "ipython",
    "version": 3
   },
   "file_extension": ".py",
   "mimetype": "text/x-python",
   "name": "python",
   "nbconvert_exporter": "python",
   "pygments_lexer": "ipython3",
   "version": "3.8.5"
  }
 },
 "nbformat": 4,
 "nbformat_minor": 4
}
