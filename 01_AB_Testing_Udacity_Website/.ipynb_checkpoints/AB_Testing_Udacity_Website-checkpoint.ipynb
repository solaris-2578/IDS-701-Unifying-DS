{
 "cells": [
  {
   "cell_type": "markdown",
   "metadata": {},
   "source": [
    "# A/B Testing the Udacity Website"
   ]
  },
  {
   "cell_type": "markdown",
   "metadata": {},
   "source": [
    "Assignment descriptions: https://www.unifyingdatascience.org/html/exercises/exercise_abtesting.html <br>\n",
    "Experiment discussed in this notebook (licensed under Apache 2.0): https://www.kaggle.com/tammyrotem/ab-tests-with-python/data"
   ]
  },
  {
   "cell_type": "markdown",
   "metadata": {},
   "source": [
    "## Import the Data"
   ]
  },
  {
   "cell_type": "code",
   "execution_count": 5,
   "metadata": {},
   "outputs": [],
   "source": [
    "import numpy as np\n",
    "import pandas as pd\n",
    "from scipy import stats"
   ]
  },
  {
   "cell_type": "markdown",
   "metadata": {},
   "source": [
    "### Exercise 1"
   ]
  },
  {
   "cell_type": "code",
   "execution_count": 6,
   "metadata": {},
   "outputs": [
    {
     "data": {
      "text/html": [
       "<div>\n",
       "<style scoped>\n",
       "    .dataframe tbody tr th:only-of-type {\n",
       "        vertical-align: middle;\n",
       "    }\n",
       "\n",
       "    .dataframe tbody tr th {\n",
       "        vertical-align: top;\n",
       "    }\n",
       "\n",
       "    .dataframe thead th {\n",
       "        text-align: right;\n",
       "    }\n",
       "</style>\n",
       "<table border=\"1\" class=\"dataframe\">\n",
       "  <thead>\n",
       "    <tr style=\"text-align: right;\">\n",
       "      <th></th>\n",
       "      <th>Date</th>\n",
       "      <th>Pageviews</th>\n",
       "      <th>Clicks</th>\n",
       "      <th>Enrollments</th>\n",
       "      <th>Payments</th>\n",
       "    </tr>\n",
       "  </thead>\n",
       "  <tbody>\n",
       "    <tr>\n",
       "      <th>0</th>\n",
       "      <td>Sat, Oct 11</td>\n",
       "      <td>7716</td>\n",
       "      <td>686</td>\n",
       "      <td>105.0</td>\n",
       "      <td>34.0</td>\n",
       "    </tr>\n",
       "    <tr>\n",
       "      <th>1</th>\n",
       "      <td>Sun, Oct 12</td>\n",
       "      <td>9288</td>\n",
       "      <td>785</td>\n",
       "      <td>116.0</td>\n",
       "      <td>91.0</td>\n",
       "    </tr>\n",
       "    <tr>\n",
       "      <th>2</th>\n",
       "      <td>Mon, Oct 13</td>\n",
       "      <td>10480</td>\n",
       "      <td>884</td>\n",
       "      <td>145.0</td>\n",
       "      <td>79.0</td>\n",
       "    </tr>\n",
       "    <tr>\n",
       "      <th>3</th>\n",
       "      <td>Tue, Oct 14</td>\n",
       "      <td>9867</td>\n",
       "      <td>827</td>\n",
       "      <td>138.0</td>\n",
       "      <td>92.0</td>\n",
       "    </tr>\n",
       "    <tr>\n",
       "      <th>4</th>\n",
       "      <td>Wed, Oct 15</td>\n",
       "      <td>9793</td>\n",
       "      <td>832</td>\n",
       "      <td>140.0</td>\n",
       "      <td>94.0</td>\n",
       "    </tr>\n",
       "  </tbody>\n",
       "</table>\n",
       "</div>"
      ],
      "text/plain": [
       "          Date  Pageviews  Clicks  Enrollments  Payments\n",
       "0  Sat, Oct 11       7716     686        105.0      34.0\n",
       "1  Sun, Oct 12       9288     785        116.0      91.0\n",
       "2  Mon, Oct 13      10480     884        145.0      79.0\n",
       "3  Tue, Oct 14       9867     827        138.0      92.0\n",
       "4  Wed, Oct 15       9793     832        140.0      94.0"
      ]
     },
     "execution_count": 6,
     "metadata": {},
     "output_type": "execute_result"
    }
   ],
   "source": [
    "# treatment\n",
    "daT = pd.read_csv(\"experiment_data.txt\", sep = \",\", header = 0)\n",
    "daT.head()"
   ]
  },
  {
   "cell_type": "code",
   "execution_count": 7,
   "metadata": {},
   "outputs": [
    {
     "data": {
      "text/html": [
       "<div>\n",
       "<style scoped>\n",
       "    .dataframe tbody tr th:only-of-type {\n",
       "        vertical-align: middle;\n",
       "    }\n",
       "\n",
       "    .dataframe tbody tr th {\n",
       "        vertical-align: top;\n",
       "    }\n",
       "\n",
       "    .dataframe thead th {\n",
       "        text-align: right;\n",
       "    }\n",
       "</style>\n",
       "<table border=\"1\" class=\"dataframe\">\n",
       "  <thead>\n",
       "    <tr style=\"text-align: right;\">\n",
       "      <th></th>\n",
       "      <th>Date</th>\n",
       "      <th>Pageviews</th>\n",
       "      <th>Clicks</th>\n",
       "      <th>Enrollments</th>\n",
       "      <th>Payments</th>\n",
       "    </tr>\n",
       "  </thead>\n",
       "  <tbody>\n",
       "    <tr>\n",
       "      <th>0</th>\n",
       "      <td>Sat, Oct 11</td>\n",
       "      <td>7723</td>\n",
       "      <td>687</td>\n",
       "      <td>134.0</td>\n",
       "      <td>70.0</td>\n",
       "    </tr>\n",
       "    <tr>\n",
       "      <th>1</th>\n",
       "      <td>Sun, Oct 12</td>\n",
       "      <td>9102</td>\n",
       "      <td>779</td>\n",
       "      <td>147.0</td>\n",
       "      <td>70.0</td>\n",
       "    </tr>\n",
       "    <tr>\n",
       "      <th>2</th>\n",
       "      <td>Mon, Oct 13</td>\n",
       "      <td>10511</td>\n",
       "      <td>909</td>\n",
       "      <td>167.0</td>\n",
       "      <td>95.0</td>\n",
       "    </tr>\n",
       "    <tr>\n",
       "      <th>3</th>\n",
       "      <td>Tue, Oct 14</td>\n",
       "      <td>9871</td>\n",
       "      <td>836</td>\n",
       "      <td>156.0</td>\n",
       "      <td>105.0</td>\n",
       "    </tr>\n",
       "    <tr>\n",
       "      <th>4</th>\n",
       "      <td>Wed, Oct 15</td>\n",
       "      <td>10014</td>\n",
       "      <td>837</td>\n",
       "      <td>163.0</td>\n",
       "      <td>64.0</td>\n",
       "    </tr>\n",
       "  </tbody>\n",
       "</table>\n",
       "</div>"
      ],
      "text/plain": [
       "          Date  Pageviews  Clicks  Enrollments  Payments\n",
       "0  Sat, Oct 11       7723     687        134.0      70.0\n",
       "1  Sun, Oct 12       9102     779        147.0      70.0\n",
       "2  Mon, Oct 13      10511     909        167.0      95.0\n",
       "3  Tue, Oct 14       9871     836        156.0     105.0\n",
       "4  Wed, Oct 15      10014     837        163.0      64.0"
      ]
     },
     "execution_count": 7,
     "metadata": {},
     "output_type": "execute_result"
    }
   ],
   "source": [
    "# control\n",
    "daC = pd.read_csv(\"control_data.txt\", sep = \",\", header = 0)\n",
    "daC.head()"
   ]
  },
  {
   "cell_type": "code",
   "execution_count": 4,
   "metadata": {},
   "outputs": [
    {
     "data": {
      "text/plain": [
       "(37, 5)"
      ]
     },
     "execution_count": 4,
     "metadata": {},
     "output_type": "execute_result"
    }
   ],
   "source": [
    "daC.shape"
   ]
  },
  {
   "cell_type": "markdown",
   "metadata": {},
   "source": [
    "### Exercise 2"
   ]
  },
  {
   "cell_type": "markdown",
   "metadata": {},
   "source": [
    "Each row records the user's browsing history and course registration status on each date."
   ]
  },
  {
   "cell_type": "markdown",
   "metadata": {},
   "source": [
    "## Pick your measures"
   ]
  },
  {
   "cell_type": "markdown",
   "metadata": {},
   "source": [
    "### Exercise 3"
   ]
  },
  {
   "cell_type": "code",
   "execution_count": 8,
   "metadata": {},
   "outputs": [
    {
     "data": {
      "text/html": [
       "<div>\n",
       "<style scoped>\n",
       "    .dataframe tbody tr th:only-of-type {\n",
       "        vertical-align: middle;\n",
       "    }\n",
       "\n",
       "    .dataframe tbody tr th {\n",
       "        vertical-align: top;\n",
       "    }\n",
       "\n",
       "    .dataframe thead th {\n",
       "        text-align: right;\n",
       "    }\n",
       "</style>\n",
       "<table border=\"1\" class=\"dataframe\">\n",
       "  <thead>\n",
       "    <tr style=\"text-align: right;\">\n",
       "      <th></th>\n",
       "      <th>Date</th>\n",
       "      <th>Pageviews</th>\n",
       "      <th>Clicks</th>\n",
       "      <th>Enrollments</th>\n",
       "      <th>Payments</th>\n",
       "      <th>Treatment</th>\n",
       "    </tr>\n",
       "  </thead>\n",
       "  <tbody>\n",
       "    <tr>\n",
       "      <th>0</th>\n",
       "      <td>2017-10-11</td>\n",
       "      <td>7723</td>\n",
       "      <td>687</td>\n",
       "      <td>134.0</td>\n",
       "      <td>70.0</td>\n",
       "      <td>0</td>\n",
       "    </tr>\n",
       "    <tr>\n",
       "      <th>0</th>\n",
       "      <td>2017-10-11</td>\n",
       "      <td>7716</td>\n",
       "      <td>686</td>\n",
       "      <td>105.0</td>\n",
       "      <td>34.0</td>\n",
       "      <td>1</td>\n",
       "    </tr>\n",
       "    <tr>\n",
       "      <th>1</th>\n",
       "      <td>2017-10-12</td>\n",
       "      <td>9102</td>\n",
       "      <td>779</td>\n",
       "      <td>147.0</td>\n",
       "      <td>70.0</td>\n",
       "      <td>0</td>\n",
       "    </tr>\n",
       "    <tr>\n",
       "      <th>1</th>\n",
       "      <td>2017-10-12</td>\n",
       "      <td>9288</td>\n",
       "      <td>785</td>\n",
       "      <td>116.0</td>\n",
       "      <td>91.0</td>\n",
       "      <td>1</td>\n",
       "    </tr>\n",
       "    <tr>\n",
       "      <th>2</th>\n",
       "      <td>2017-10-13</td>\n",
       "      <td>10511</td>\n",
       "      <td>909</td>\n",
       "      <td>167.0</td>\n",
       "      <td>95.0</td>\n",
       "      <td>0</td>\n",
       "    </tr>\n",
       "  </tbody>\n",
       "</table>\n",
       "</div>"
      ],
      "text/plain": [
       "        Date  Pageviews  Clicks  Enrollments  Payments  Treatment\n",
       "0 2017-10-11       7723     687        134.0      70.0          0\n",
       "0 2017-10-11       7716     686        105.0      34.0          1\n",
       "1 2017-10-12       9102     779        147.0      70.0          0\n",
       "1 2017-10-12       9288     785        116.0      91.0          1\n",
       "2 2017-10-13      10511     909        167.0      95.0          0"
      ]
     },
     "execution_count": 8,
     "metadata": {},
     "output_type": "execute_result"
    }
   ],
   "source": [
    "daT['Treatment'] = 1\n",
    "daC['Treatment'] = 0\n",
    "\n",
    "da = pd.concat([daT, daC])\n",
    "# Convert Date\n",
    "da['Date'] = pd.to_datetime(da['Date'], format = '%a, %b %d') \\\n",
    "                .apply(lambda x: x.replace(year = 2017))\n",
    "da.sort_values(['Date', 'Treatment'], inplace = True)\n",
    "da.head()"
   ]
  },
  {
   "cell_type": "code",
   "execution_count": 26,
   "metadata": {},
   "outputs": [
    {
     "data": {
      "text/plain": [
       "0"
      ]
     },
     "execution_count": 26,
     "metadata": {},
     "output_type": "execute_result"
    }
   ],
   "source": [
    "sum(da.groupby(\"Date\")[\"Pageviews\"].count() == 1)"
   ]
  },
  {
   "cell_type": "markdown",
   "metadata": {},
   "source": [
    "0 means all records are pairs wised, one comes from the control group, and another comes from the treatment group."
   ]
  },
  {
   "cell_type": "markdown",
   "metadata": {},
   "source": [
    "### Exercise 4"
   ]
  },
  {
   "cell_type": "code",
   "execution_count": 27,
   "metadata": {},
   "outputs": [
    {
     "data": {
      "text/html": [
       "<div>\n",
       "<style scoped>\n",
       "    .dataframe tbody tr th:only-of-type {\n",
       "        vertical-align: middle;\n",
       "    }\n",
       "\n",
       "    .dataframe tbody tr th {\n",
       "        vertical-align: top;\n",
       "    }\n",
       "\n",
       "    .dataframe thead th {\n",
       "        text-align: right;\n",
       "    }\n",
       "</style>\n",
       "<table border=\"1\" class=\"dataframe\">\n",
       "  <thead>\n",
       "    <tr style=\"text-align: right;\">\n",
       "      <th></th>\n",
       "      <th>Date</th>\n",
       "      <th>Pageviews</th>\n",
       "      <th>Clicks</th>\n",
       "      <th>Enrollments</th>\n",
       "      <th>Payments</th>\n",
       "      <th>Treatment</th>\n",
       "      <th>NetConv</th>\n",
       "      <th>GrossConv</th>\n",
       "    </tr>\n",
       "  </thead>\n",
       "  <tbody>\n",
       "    <tr>\n",
       "      <th>0</th>\n",
       "      <td>2017-10-11</td>\n",
       "      <td>7723</td>\n",
       "      <td>687</td>\n",
       "      <td>134.0</td>\n",
       "      <td>70.0</td>\n",
       "      <td>0</td>\n",
       "      <td>0.101892</td>\n",
       "      <td>0.195051</td>\n",
       "    </tr>\n",
       "    <tr>\n",
       "      <th>0</th>\n",
       "      <td>2017-10-11</td>\n",
       "      <td>7716</td>\n",
       "      <td>686</td>\n",
       "      <td>105.0</td>\n",
       "      <td>34.0</td>\n",
       "      <td>1</td>\n",
       "      <td>0.049563</td>\n",
       "      <td>0.153061</td>\n",
       "    </tr>\n",
       "    <tr>\n",
       "      <th>1</th>\n",
       "      <td>2017-10-12</td>\n",
       "      <td>9102</td>\n",
       "      <td>779</td>\n",
       "      <td>147.0</td>\n",
       "      <td>70.0</td>\n",
       "      <td>0</td>\n",
       "      <td>0.089859</td>\n",
       "      <td>0.188703</td>\n",
       "    </tr>\n",
       "    <tr>\n",
       "      <th>1</th>\n",
       "      <td>2017-10-12</td>\n",
       "      <td>9288</td>\n",
       "      <td>785</td>\n",
       "      <td>116.0</td>\n",
       "      <td>91.0</td>\n",
       "      <td>1</td>\n",
       "      <td>0.115924</td>\n",
       "      <td>0.147771</td>\n",
       "    </tr>\n",
       "    <tr>\n",
       "      <th>2</th>\n",
       "      <td>2017-10-13</td>\n",
       "      <td>10511</td>\n",
       "      <td>909</td>\n",
       "      <td>167.0</td>\n",
       "      <td>95.0</td>\n",
       "      <td>0</td>\n",
       "      <td>0.104510</td>\n",
       "      <td>0.183718</td>\n",
       "    </tr>\n",
       "  </tbody>\n",
       "</table>\n",
       "</div>"
      ],
      "text/plain": [
       "        Date  Pageviews  Clicks  Enrollments  Payments  Treatment   NetConv  \\\n",
       "0 2017-10-11       7723     687        134.0      70.0          0  0.101892   \n",
       "0 2017-10-11       7716     686        105.0      34.0          1  0.049563   \n",
       "1 2017-10-12       9102     779        147.0      70.0          0  0.089859   \n",
       "1 2017-10-12       9288     785        116.0      91.0          1  0.115924   \n",
       "2 2017-10-13      10511     909        167.0      95.0          0  0.104510   \n",
       "\n",
       "   GrossConv  \n",
       "0   0.195051  \n",
       "0   0.153061  \n",
       "1   0.188703  \n",
       "1   0.147771  \n",
       "2   0.183718  "
      ]
     },
     "execution_count": 27,
     "metadata": {},
     "output_type": "execute_result"
    }
   ],
   "source": [
    "da['NetConv'] = da['Payments'] / da['Clicks']\n",
    "da['GrossConv'] = da['Enrollments'] / da['Clicks']\n",
    "da.head()"
   ]
  },
  {
   "cell_type": "markdown",
   "metadata": {},
   "source": [
    "## Validating The Data"
   ]
  },
  {
   "cell_type": "markdown",
   "metadata": {},
   "source": [
    "### Exercise 5"
   ]
  },
  {
   "cell_type": "code",
   "execution_count": 28,
   "metadata": {},
   "outputs": [
    {
     "name": "stdout",
     "output_type": "stream",
     "text": [
      "Average Pageviews of Treatment Group is 9315.135\n",
      "Average Pageviews of Control Group is 9339.000\n"
     ]
    }
   ],
   "source": [
    "print(\"Average Pageviews of Treatment Group is {:.3f}\".format(\n",
    "np.mean(da[da['Treatment'] == 1][\"Pageviews\"])))\n",
    "print(\"Average Pageviews of Control Group is {:.3f}\".format(\n",
    "np.mean(da[da['Treatment'] == 0][\"Pageviews\"])))"
   ]
  },
  {
   "cell_type": "markdown",
   "metadata": {},
   "source": [
    "### Exercise 6"
   ]
  },
  {
   "cell_type": "code",
   "execution_count": 30,
   "metadata": {},
   "outputs": [
    {
     "name": "stdout",
     "output_type": "stream",
     "text": [
      "The p-value of Treatment t-test is 0.888\n"
     ]
    }
   ],
   "source": [
    "test_res = stats.ttest_ind(da[da['Treatment'] == 1][\"Pageviews\"],\n",
    "da[da['Treatment'] == 0][\"Pageviews\"])\n",
    "print(\"The p-value of Treatment t-test is {:.3f}\".format(test_res.pvalue))"
   ]
  },
  {
   "cell_type": "markdown",
   "metadata": {},
   "source": [
    "### Exercise 7"
   ]
  },
  {
   "cell_type": "markdown",
   "metadata": {},
   "source": [
    "* Clicks\n",
    "* Click-through-probability (CTP) of the Free Trial Button. The CTP is cauculated by $CPT = \\frac{Pageviews}{Clicks}$"
   ]
  },
  {
   "cell_type": "markdown",
   "metadata": {},
   "source": [
    "### Exercise 8"
   ]
  },
  {
   "cell_type": "code",
   "execution_count": 33,
   "metadata": {},
   "outputs": [
    {
     "name": "stdout",
     "output_type": "stream",
     "text": [
      "The p-value of Clicks t-test is 0.926\n"
     ]
    }
   ],
   "source": [
    "test_res = stats.ttest_ind(da[da['Treatment'] == 1][\"Clicks\"],\n",
    "da[da['Treatment'] == 0][\"Clicks\"])\n",
    "print(\"The p-value of Clicks t-test is {:.3f}\".format(test_res.pvalue))"
   ]
  },
  {
   "cell_type": "code",
   "execution_count": 34,
   "metadata": {},
   "outputs": [
    {
     "data": {
      "text/html": [
       "<div>\n",
       "<style scoped>\n",
       "    .dataframe tbody tr th:only-of-type {\n",
       "        vertical-align: middle;\n",
       "    }\n",
       "\n",
       "    .dataframe tbody tr th {\n",
       "        vertical-align: top;\n",
       "    }\n",
       "\n",
       "    .dataframe thead th {\n",
       "        text-align: right;\n",
       "    }\n",
       "</style>\n",
       "<table border=\"1\" class=\"dataframe\">\n",
       "  <thead>\n",
       "    <tr style=\"text-align: right;\">\n",
       "      <th></th>\n",
       "      <th>Date</th>\n",
       "      <th>Pageviews</th>\n",
       "      <th>Clicks</th>\n",
       "      <th>Enrollments</th>\n",
       "      <th>Payments</th>\n",
       "      <th>Treatment</th>\n",
       "      <th>NetConv</th>\n",
       "      <th>GrossConv</th>\n",
       "      <th>CPT</th>\n",
       "    </tr>\n",
       "  </thead>\n",
       "  <tbody>\n",
       "    <tr>\n",
       "      <th>0</th>\n",
       "      <td>2017-10-11</td>\n",
       "      <td>7723</td>\n",
       "      <td>687</td>\n",
       "      <td>134.0</td>\n",
       "      <td>70.0</td>\n",
       "      <td>0</td>\n",
       "      <td>0.101892</td>\n",
       "      <td>0.195051</td>\n",
       "      <td>11.241630</td>\n",
       "    </tr>\n",
       "    <tr>\n",
       "      <th>0</th>\n",
       "      <td>2017-10-11</td>\n",
       "      <td>7716</td>\n",
       "      <td>686</td>\n",
       "      <td>105.0</td>\n",
       "      <td>34.0</td>\n",
       "      <td>1</td>\n",
       "      <td>0.049563</td>\n",
       "      <td>0.153061</td>\n",
       "      <td>11.247813</td>\n",
       "    </tr>\n",
       "    <tr>\n",
       "      <th>1</th>\n",
       "      <td>2017-10-12</td>\n",
       "      <td>9102</td>\n",
       "      <td>779</td>\n",
       "      <td>147.0</td>\n",
       "      <td>70.0</td>\n",
       "      <td>0</td>\n",
       "      <td>0.089859</td>\n",
       "      <td>0.188703</td>\n",
       "      <td>11.684211</td>\n",
       "    </tr>\n",
       "    <tr>\n",
       "      <th>1</th>\n",
       "      <td>2017-10-12</td>\n",
       "      <td>9288</td>\n",
       "      <td>785</td>\n",
       "      <td>116.0</td>\n",
       "      <td>91.0</td>\n",
       "      <td>1</td>\n",
       "      <td>0.115924</td>\n",
       "      <td>0.147771</td>\n",
       "      <td>11.831847</td>\n",
       "    </tr>\n",
       "    <tr>\n",
       "      <th>2</th>\n",
       "      <td>2017-10-13</td>\n",
       "      <td>10511</td>\n",
       "      <td>909</td>\n",
       "      <td>167.0</td>\n",
       "      <td>95.0</td>\n",
       "      <td>0</td>\n",
       "      <td>0.104510</td>\n",
       "      <td>0.183718</td>\n",
       "      <td>11.563256</td>\n",
       "    </tr>\n",
       "  </tbody>\n",
       "</table>\n",
       "</div>"
      ],
      "text/plain": [
       "        Date  Pageviews  Clicks  Enrollments  Payments  Treatment   NetConv  \\\n",
       "0 2017-10-11       7723     687        134.0      70.0          0  0.101892   \n",
       "0 2017-10-11       7716     686        105.0      34.0          1  0.049563   \n",
       "1 2017-10-12       9102     779        147.0      70.0          0  0.089859   \n",
       "1 2017-10-12       9288     785        116.0      91.0          1  0.115924   \n",
       "2 2017-10-13      10511     909        167.0      95.0          0  0.104510   \n",
       "\n",
       "   GrossConv        CPT  \n",
       "0   0.195051  11.241630  \n",
       "0   0.153061  11.247813  \n",
       "1   0.188703  11.684211  \n",
       "1   0.147771  11.831847  \n",
       "2   0.183718  11.563256  "
      ]
     },
     "execution_count": 34,
     "metadata": {},
     "output_type": "execute_result"
    }
   ],
   "source": [
    "da[\"CPT\"] = da[\"Pageviews\"] / da[\"Clicks\"]\n",
    "da.head()"
   ]
  },
  {
   "cell_type": "code",
   "execution_count": 35,
   "metadata": {},
   "outputs": [
    {
     "name": "stdout",
     "output_type": "stream",
     "text": [
      "The p-value of CPT t-test is 0.924\n"
     ]
    }
   ],
   "source": [
    "test_res = stats.ttest_ind(da[da['Treatment'] == 1][\"CPT\"],\n",
    "da[da['Treatment'] == 0][\"CPT\"])\n",
    "print(\"The p-value of CPT t-test is {:.3f}\".format(test_res.pvalue))"
   ]
  },
  {
   "cell_type": "markdown",
   "metadata": {},
   "source": [
    "## Estimating the Effect of Experiment"
   ]
  },
  {
   "cell_type": "markdown",
   "metadata": {},
   "source": [
    "### Exercise 9"
   ]
  },
  {
   "cell_type": "code",
   "execution_count": 36,
   "metadata": {},
   "outputs": [
    {
     "name": "stdout",
     "output_type": "stream",
     "text": [
      "The p-value of Net Conversion t-test is 0.593\n",
      "The p-value of Gross Conversion t-test is 0.131\n"
     ]
    }
   ],
   "source": [
    "# There are null data in the dateset, drop them\n",
    "full_data = da.dropna()\n",
    "\n",
    "test_res = stats.ttest_ind(full_data[full_data['Treatment'] == 1][\"NetConv\"],\n",
    "full_data[full_data['Treatment'] == 0][\"NetConv\"])\n",
    "print(\"The p-value of Net Conversion t-test is {:.3f}\".format(test_res.pvalue))\n",
    "test_res = stats.ttest_ind(full_data[full_data['Treatment'] == 1][\"GrossConv\"],\n",
    "full_data[full_data['Treatment'] == 0][\"GrossConv\"])\n",
    "print(\"The p-value of Gross Conversion t-test is {:.3f}\".format(test_res.pvalue))"
   ]
  },
  {
   "cell_type": "markdown",
   "metadata": {},
   "source": [
    "### Exercise 10"
   ]
  },
  {
   "cell_type": "code",
   "execution_count": 42,
   "metadata": {},
   "outputs": [
    {
     "data": {
      "text/html": [
       "<table class=\"simpletable\">\n",
       "<caption>OLS Regression Results</caption>\n",
       "<tr>\n",
       "  <th>Dep. Variable:</th>        <td>GrossConv</td>    <th>  R-squared:         </th> <td>   0.051</td>\n",
       "</tr>\n",
       "<tr>\n",
       "  <th>Model:</th>                   <td>OLS</td>       <th>  Adj. R-squared:    </th> <td>   0.030</td>\n",
       "</tr>\n",
       "<tr>\n",
       "  <th>Method:</th>             <td>Least Squares</td>  <th>  F-statistic:       </th> <td>   2.371</td>\n",
       "</tr>\n",
       "<tr>\n",
       "  <th>Date:</th>             <td>Tue, 09 Feb 2021</td> <th>  Prob (F-statistic):</th>  <td> 0.131</td> \n",
       "</tr>\n",
       "<tr>\n",
       "  <th>Time:</th>                 <td>11:54:46</td>     <th>  Log-Likelihood:    </th> <td>  77.613</td>\n",
       "</tr>\n",
       "<tr>\n",
       "  <th>No. Observations:</th>      <td>    46</td>      <th>  AIC:               </th> <td>  -151.2</td>\n",
       "</tr>\n",
       "<tr>\n",
       "  <th>Df Residuals:</th>          <td>    44</td>      <th>  BIC:               </th> <td>  -147.6</td>\n",
       "</tr>\n",
       "<tr>\n",
       "  <th>Df Model:</th>              <td>     1</td>      <th>                     </th>     <td> </td>   \n",
       "</tr>\n",
       "<tr>\n",
       "  <th>Covariance Type:</th>      <td>nonrobust</td>    <th>                     </th>     <td> </td>   \n",
       "</tr>\n",
       "</table>\n",
       "<table class=\"simpletable\">\n",
       "<tr>\n",
       "      <td></td>         <th>coef</th>     <th>std err</th>      <th>t</th>      <th>P>|t|</th>  <th>[0.025</th>    <th>0.975]</th>  \n",
       "</tr>\n",
       "<tr>\n",
       "  <th>Intercept</th> <td>    0.2204</td> <td>    0.010</td> <td>   23.084</td> <td> 0.000</td> <td>    0.201</td> <td>    0.240</td>\n",
       "</tr>\n",
       "<tr>\n",
       "  <th>Treatment</th> <td>   -0.0208</td> <td>    0.013</td> <td>   -1.540</td> <td> 0.131</td> <td>   -0.048</td> <td>    0.006</td>\n",
       "</tr>\n",
       "</table>\n",
       "<table class=\"simpletable\">\n",
       "<tr>\n",
       "  <th>Omnibus:</th>       <td> 6.181</td> <th>  Durbin-Watson:     </th> <td>   0.677</td>\n",
       "</tr>\n",
       "<tr>\n",
       "  <th>Prob(Omnibus):</th> <td> 0.045</td> <th>  Jarque-Bera (JB):  </th> <td>   6.094</td>\n",
       "</tr>\n",
       "<tr>\n",
       "  <th>Skew:</th>          <td> 0.850</td> <th>  Prob(JB):          </th> <td>  0.0475</td>\n",
       "</tr>\n",
       "<tr>\n",
       "  <th>Kurtosis:</th>      <td> 2.460</td> <th>  Cond. No.          </th> <td>    2.62</td>\n",
       "</tr>\n",
       "</table><br/><br/>Notes:<br/>[1] Standard Errors assume that the covariance matrix of the errors is correctly specified."
      ],
      "text/plain": [
       "<class 'statsmodels.iolib.summary.Summary'>\n",
       "\"\"\"\n",
       "                            OLS Regression Results                            \n",
       "==============================================================================\n",
       "Dep. Variable:              GrossConv   R-squared:                       0.051\n",
       "Model:                            OLS   Adj. R-squared:                  0.030\n",
       "Method:                 Least Squares   F-statistic:                     2.371\n",
       "Date:                Tue, 09 Feb 2021   Prob (F-statistic):              0.131\n",
       "Time:                        11:54:46   Log-Likelihood:                 77.613\n",
       "No. Observations:                  46   AIC:                            -151.2\n",
       "Df Residuals:                      44   BIC:                            -147.6\n",
       "Df Model:                           1                                         \n",
       "Covariance Type:            nonrobust                                         \n",
       "==============================================================================\n",
       "                 coef    std err          t      P>|t|      [0.025      0.975]\n",
       "------------------------------------------------------------------------------\n",
       "Intercept      0.2204      0.010     23.084      0.000       0.201       0.240\n",
       "Treatment     -0.0208      0.013     -1.540      0.131      -0.048       0.006\n",
       "==============================================================================\n",
       "Omnibus:                        6.181   Durbin-Watson:                   0.677\n",
       "Prob(Omnibus):                  0.045   Jarque-Bera (JB):                6.094\n",
       "Skew:                           0.850   Prob(JB):                       0.0475\n",
       "Kurtosis:                       2.460   Cond. No.                         2.62\n",
       "==============================================================================\n",
       "\n",
       "Notes:\n",
       "[1] Standard Errors assume that the covariance matrix of the errors is correctly specified.\n",
       "\"\"\""
      ]
     },
     "execution_count": 42,
     "metadata": {},
     "output_type": "execute_result"
    }
   ],
   "source": [
    "import statsmodels.api as sm\n",
    "import statsmodels.formula.api as smf\n",
    "smf.ols(\"GrossConv ~ Treatment\", full_data).fit().summary()"
   ]
  },
  {
   "cell_type": "code",
   "execution_count": 43,
   "metadata": {},
   "outputs": [
    {
     "data": {
      "text/html": [
       "<table class=\"simpletable\">\n",
       "<caption>OLS Regression Results</caption>\n",
       "<tr>\n",
       "  <th>Dep. Variable:</th>         <td>NetConv</td>     <th>  R-squared:         </th> <td>   0.007</td>\n",
       "</tr>\n",
       "<tr>\n",
       "  <th>Model:</th>                   <td>OLS</td>       <th>  Adj. R-squared:    </th> <td>  -0.016</td>\n",
       "</tr>\n",
       "<tr>\n",
       "  <th>Method:</th>             <td>Least Squares</td>  <th>  F-statistic:       </th> <td>  0.2903</td>\n",
       "</tr>\n",
       "<tr>\n",
       "  <th>Date:</th>             <td>Tue, 09 Feb 2021</td> <th>  Prob (F-statistic):</th>  <td> 0.593</td> \n",
       "</tr>\n",
       "<tr>\n",
       "  <th>Time:</th>                 <td>11:54:49</td>     <th>  Log-Likelihood:    </th> <td>  95.810</td>\n",
       "</tr>\n",
       "<tr>\n",
       "  <th>No. Observations:</th>      <td>    46</td>      <th>  AIC:               </th> <td>  -187.6</td>\n",
       "</tr>\n",
       "<tr>\n",
       "  <th>Df Residuals:</th>          <td>    44</td>      <th>  BIC:               </th> <td>  -184.0</td>\n",
       "</tr>\n",
       "<tr>\n",
       "  <th>Df Model:</th>              <td>     1</td>      <th>                     </th>     <td> </td>   \n",
       "</tr>\n",
       "<tr>\n",
       "  <th>Covariance Type:</th>      <td>nonrobust</td>    <th>                     </th>     <td> </td>   \n",
       "</tr>\n",
       "</table>\n",
       "<table class=\"simpletable\">\n",
       "<tr>\n",
       "      <td></td>         <th>coef</th>     <th>std err</th>      <th>t</th>      <th>P>|t|</th>  <th>[0.025</th>    <th>0.975]</th>  \n",
       "</tr>\n",
       "<tr>\n",
       "  <th>Intercept</th> <td>    0.1183</td> <td>    0.006</td> <td>   18.403</td> <td> 0.000</td> <td>    0.105</td> <td>    0.131</td>\n",
       "</tr>\n",
       "<tr>\n",
       "  <th>Treatment</th> <td>   -0.0049</td> <td>    0.009</td> <td>   -0.539</td> <td> 0.593</td> <td>   -0.023</td> <td>    0.013</td>\n",
       "</tr>\n",
       "</table>\n",
       "<table class=\"simpletable\">\n",
       "<tr>\n",
       "  <th>Omnibus:</th>       <td> 0.968</td> <th>  Durbin-Watson:     </th> <td>   1.165</td>\n",
       "</tr>\n",
       "<tr>\n",
       "  <th>Prob(Omnibus):</th> <td> 0.616</td> <th>  Jarque-Bera (JB):  </th> <td>   0.985</td>\n",
       "</tr>\n",
       "<tr>\n",
       "  <th>Skew:</th>          <td> 0.316</td> <th>  Prob(JB):          </th> <td>   0.611</td>\n",
       "</tr>\n",
       "<tr>\n",
       "  <th>Kurtosis:</th>      <td> 2.662</td> <th>  Cond. No.          </th> <td>    2.62</td>\n",
       "</tr>\n",
       "</table><br/><br/>Notes:<br/>[1] Standard Errors assume that the covariance matrix of the errors is correctly specified."
      ],
      "text/plain": [
       "<class 'statsmodels.iolib.summary.Summary'>\n",
       "\"\"\"\n",
       "                            OLS Regression Results                            \n",
       "==============================================================================\n",
       "Dep. Variable:                NetConv   R-squared:                       0.007\n",
       "Model:                            OLS   Adj. R-squared:                 -0.016\n",
       "Method:                 Least Squares   F-statistic:                    0.2903\n",
       "Date:                Tue, 09 Feb 2021   Prob (F-statistic):              0.593\n",
       "Time:                        11:54:49   Log-Likelihood:                 95.810\n",
       "No. Observations:                  46   AIC:                            -187.6\n",
       "Df Residuals:                      44   BIC:                            -184.0\n",
       "Df Model:                           1                                         \n",
       "Covariance Type:            nonrobust                                         \n",
       "==============================================================================\n",
       "                 coef    std err          t      P>|t|      [0.025      0.975]\n",
       "------------------------------------------------------------------------------\n",
       "Intercept      0.1183      0.006     18.403      0.000       0.105       0.131\n",
       "Treatment     -0.0049      0.009     -0.539      0.593      -0.023       0.013\n",
       "==============================================================================\n",
       "Omnibus:                        0.968   Durbin-Watson:                   1.165\n",
       "Prob(Omnibus):                  0.616   Jarque-Bera (JB):                0.985\n",
       "Skew:                           0.316   Prob(JB):                        0.611\n",
       "Kurtosis:                       2.662   Cond. No.                         2.62\n",
       "==============================================================================\n",
       "\n",
       "Notes:\n",
       "[1] Standard Errors assume that the covariance matrix of the errors is correctly specified.\n",
       "\"\"\""
      ]
     },
     "execution_count": 43,
     "metadata": {},
     "output_type": "execute_result"
    }
   ],
   "source": [
    "smf.ols(\"NetConv ~ Treatment\", full_data).fit().summary()"
   ]
  },
  {
   "cell_type": "markdown",
   "metadata": {},
   "source": [
    "### Exercise 11"
   ]
  },
  {
   "cell_type": "code",
   "execution_count": 44,
   "metadata": {},
   "outputs": [
    {
     "data": {
      "text/html": [
       "<table class=\"simpletable\">\n",
       "<caption>OLS Regression Results</caption>\n",
       "<tr>\n",
       "  <th>Dep. Variable:</th>         <td>NetConv</td>     <th>  R-squared:         </th> <td>   0.743</td>\n",
       "</tr>\n",
       "<tr>\n",
       "  <th>Model:</th>                   <td>OLS</td>       <th>  Adj. R-squared:    </th> <td>   0.475</td>\n",
       "</tr>\n",
       "<tr>\n",
       "  <th>Method:</th>             <td>Least Squares</td>  <th>  F-statistic:       </th> <td>   2.770</td>\n",
       "</tr>\n",
       "<tr>\n",
       "  <th>Date:</th>             <td>Tue, 09 Feb 2021</td> <th>  Prob (F-statistic):</th>  <td>0.00991</td>\n",
       "</tr>\n",
       "<tr>\n",
       "  <th>Time:</th>                 <td>11:55:01</td>     <th>  Log-Likelihood:    </th> <td>  126.94</td>\n",
       "</tr>\n",
       "<tr>\n",
       "  <th>No. Observations:</th>      <td>    46</td>      <th>  AIC:               </th> <td>  -205.9</td>\n",
       "</tr>\n",
       "<tr>\n",
       "  <th>Df Residuals:</th>          <td>    22</td>      <th>  BIC:               </th> <td>  -162.0</td>\n",
       "</tr>\n",
       "<tr>\n",
       "  <th>Df Model:</th>              <td>    23</td>      <th>                     </th>     <td> </td>   \n",
       "</tr>\n",
       "<tr>\n",
       "  <th>Covariance Type:</th>      <td>nonrobust</td>    <th>                     </th>     <td> </td>   \n",
       "</tr>\n",
       "</table>\n",
       "<table class=\"simpletable\">\n",
       "<tr>\n",
       "                      <td></td>                        <th>coef</th>     <th>std err</th>      <th>t</th>      <th>P>|t|</th>  <th>[0.025</th>    <th>0.975]</th>  \n",
       "</tr>\n",
       "<tr>\n",
       "  <th>Intercept</th>                                <td>    0.0782</td> <td>    0.016</td> <td>    4.885</td> <td> 0.000</td> <td>    0.045</td> <td>    0.111</td>\n",
       "</tr>\n",
       "<tr>\n",
       "  <th>Date[T.Timestamp('2017-10-12 00:00:00')]</th> <td>    0.0272</td> <td>    0.022</td> <td>    1.226</td> <td> 0.233</td> <td>   -0.019</td> <td>    0.073</td>\n",
       "</tr>\n",
       "<tr>\n",
       "  <th>Date[T.Timestamp('2017-10-13 00:00:00')]</th> <td>    0.0212</td> <td>    0.022</td> <td>    0.957</td> <td> 0.349</td> <td>   -0.025</td> <td>    0.067</td>\n",
       "</tr>\n",
       "<tr>\n",
       "  <th>Date[T.Timestamp('2017-10-14 00:00:00')]</th> <td>    0.0427</td> <td>    0.022</td> <td>    1.927</td> <td> 0.067</td> <td>   -0.003</td> <td>    0.089</td>\n",
       "</tr>\n",
       "<tr>\n",
       "  <th>Date[T.Timestamp('2017-10-15 00:00:00')]</th> <td>    0.0190</td> <td>    0.022</td> <td>    0.857</td> <td> 0.401</td> <td>   -0.027</td> <td>    0.065</td>\n",
       "</tr>\n",
       "<tr>\n",
       "  <th>Date[T.Timestamp('2017-10-16 00:00:00')]</th> <td>    0.0128</td> <td>    0.022</td> <td>    0.578</td> <td> 0.569</td> <td>   -0.033</td> <td>    0.059</td>\n",
       "</tr>\n",
       "<tr>\n",
       "  <th>Date[T.Timestamp('2017-10-17 00:00:00')]</th> <td>    0.0033</td> <td>    0.022</td> <td>    0.148</td> <td> 0.884</td> <td>   -0.043</td> <td>    0.049</td>\n",
       "</tr>\n",
       "<tr>\n",
       "  <th>Date[T.Timestamp('2017-10-18 00:00:00')]</th> <td>    0.0272</td> <td>    0.022</td> <td>    1.228</td> <td> 0.233</td> <td>   -0.019</td> <td>    0.073</td>\n",
       "</tr>\n",
       "<tr>\n",
       "  <th>Date[T.Timestamp('2017-10-19 00:00:00')]</th> <td>    0.0229</td> <td>    0.022</td> <td>    1.035</td> <td> 0.312</td> <td>   -0.023</td> <td>    0.069</td>\n",
       "</tr>\n",
       "<tr>\n",
       "  <th>Date[T.Timestamp('2017-10-20 00:00:00')]</th> <td>    0.0376</td> <td>    0.022</td> <td>    1.696</td> <td> 0.104</td> <td>   -0.008</td> <td>    0.084</td>\n",
       "</tr>\n",
       "<tr>\n",
       "  <th>Date[T.Timestamp('2017-10-21 00:00:00')]</th> <td>    0.0259</td> <td>    0.022</td> <td>    1.170</td> <td> 0.255</td> <td>   -0.020</td> <td>    0.072</td>\n",
       "</tr>\n",
       "<tr>\n",
       "  <th>Date[T.Timestamp('2017-10-22 00:00:00')]</th> <td>    0.0229</td> <td>    0.022</td> <td>    1.032</td> <td> 0.313</td> <td>   -0.023</td> <td>    0.069</td>\n",
       "</tr>\n",
       "<tr>\n",
       "  <th>Date[T.Timestamp('2017-10-23 00:00:00')]</th> <td>    0.0193</td> <td>    0.022</td> <td>    0.873</td> <td> 0.392</td> <td>   -0.027</td> <td>    0.065</td>\n",
       "</tr>\n",
       "<tr>\n",
       "  <th>Date[T.Timestamp('2017-10-24 00:00:00')]</th> <td>    0.0823</td> <td>    0.022</td> <td>    3.717</td> <td> 0.001</td> <td>    0.036</td> <td>    0.128</td>\n",
       "</tr>\n",
       "<tr>\n",
       "  <th>Date[T.Timestamp('2017-10-25 00:00:00')]</th> <td>    0.0774</td> <td>    0.022</td> <td>    3.495</td> <td> 0.002</td> <td>    0.031</td> <td>    0.123</td>\n",
       "</tr>\n",
       "<tr>\n",
       "  <th>Date[T.Timestamp('2017-10-26 00:00:00')]</th> <td>    0.0706</td> <td>    0.022</td> <td>    3.186</td> <td> 0.004</td> <td>    0.025</td> <td>    0.117</td>\n",
       "</tr>\n",
       "<tr>\n",
       "  <th>Date[T.Timestamp('2017-10-27 00:00:00')]</th> <td>    0.0831</td> <td>    0.022</td> <td>    3.752</td> <td> 0.001</td> <td>    0.037</td> <td>    0.129</td>\n",
       "</tr>\n",
       "<tr>\n",
       "  <th>Date[T.Timestamp('2017-10-28 00:00:00')]</th> <td>    0.0676</td> <td>    0.022</td> <td>    3.052</td> <td> 0.006</td> <td>    0.022</td> <td>    0.114</td>\n",
       "</tr>\n",
       "<tr>\n",
       "  <th>Date[T.Timestamp('2017-10-29 00:00:00')]</th> <td>    0.0485</td> <td>    0.022</td> <td>    2.188</td> <td> 0.040</td> <td>    0.003</td> <td>    0.094</td>\n",
       "</tr>\n",
       "<tr>\n",
       "  <th>Date[T.Timestamp('2017-10-30 00:00:00')]</th> <td>    0.0214</td> <td>    0.022</td> <td>    0.965</td> <td> 0.345</td> <td>   -0.025</td> <td>    0.067</td>\n",
       "</tr>\n",
       "<tr>\n",
       "  <th>Date[T.Timestamp('2017-10-31 00:00:00')]</th> <td>    0.0810</td> <td>    0.022</td> <td>    3.655</td> <td> 0.001</td> <td>    0.035</td> <td>    0.127</td>\n",
       "</tr>\n",
       "<tr>\n",
       "  <th>Date[T.Timestamp('2017-11-01 00:00:00')]</th> <td>    0.0645</td> <td>    0.022</td> <td>    2.911</td> <td> 0.008</td> <td>    0.019</td> <td>    0.110</td>\n",
       "</tr>\n",
       "<tr>\n",
       "  <th>Date[T.Timestamp('2017-11-02 00:00:00')]</th> <td>    0.0437</td> <td>    0.022</td> <td>    1.974</td> <td> 0.061</td> <td>   -0.002</td> <td>    0.090</td>\n",
       "</tr>\n",
       "<tr>\n",
       "  <th>Treatment</th>                                <td>   -0.0049</td> <td>    0.007</td> <td>   -0.750</td> <td> 0.461</td> <td>   -0.018</td> <td>    0.009</td>\n",
       "</tr>\n",
       "</table>\n",
       "<table class=\"simpletable\">\n",
       "<tr>\n",
       "  <th>Omnibus:</th>       <td> 4.114</td> <th>  Durbin-Watson:     </th> <td>   2.921</td>\n",
       "</tr>\n",
       "<tr>\n",
       "  <th>Prob(Omnibus):</th> <td> 0.128</td> <th>  Jarque-Bera (JB):  </th> <td>   1.796</td>\n",
       "</tr>\n",
       "<tr>\n",
       "  <th>Skew:</th>          <td>-0.000</td> <th>  Prob(JB):          </th> <td>   0.407</td>\n",
       "</tr>\n",
       "<tr>\n",
       "  <th>Kurtosis:</th>      <td> 2.032</td> <th>  Cond. No.          </th> <td>    27.3</td>\n",
       "</tr>\n",
       "</table><br/><br/>Notes:<br/>[1] Standard Errors assume that the covariance matrix of the errors is correctly specified."
      ],
      "text/plain": [
       "<class 'statsmodels.iolib.summary.Summary'>\n",
       "\"\"\"\n",
       "                            OLS Regression Results                            \n",
       "==============================================================================\n",
       "Dep. Variable:                NetConv   R-squared:                       0.743\n",
       "Model:                            OLS   Adj. R-squared:                  0.475\n",
       "Method:                 Least Squares   F-statistic:                     2.770\n",
       "Date:                Tue, 09 Feb 2021   Prob (F-statistic):            0.00991\n",
       "Time:                        11:55:01   Log-Likelihood:                 126.94\n",
       "No. Observations:                  46   AIC:                            -205.9\n",
       "Df Residuals:                      22   BIC:                            -162.0\n",
       "Df Model:                          23                                         \n",
       "Covariance Type:            nonrobust                                         \n",
       "============================================================================================================\n",
       "                                               coef    std err          t      P>|t|      [0.025      0.975]\n",
       "------------------------------------------------------------------------------------------------------------\n",
       "Intercept                                    0.0782      0.016      4.885      0.000       0.045       0.111\n",
       "Date[T.Timestamp('2017-10-12 00:00:00')]     0.0272      0.022      1.226      0.233      -0.019       0.073\n",
       "Date[T.Timestamp('2017-10-13 00:00:00')]     0.0212      0.022      0.957      0.349      -0.025       0.067\n",
       "Date[T.Timestamp('2017-10-14 00:00:00')]     0.0427      0.022      1.927      0.067      -0.003       0.089\n",
       "Date[T.Timestamp('2017-10-15 00:00:00')]     0.0190      0.022      0.857      0.401      -0.027       0.065\n",
       "Date[T.Timestamp('2017-10-16 00:00:00')]     0.0128      0.022      0.578      0.569      -0.033       0.059\n",
       "Date[T.Timestamp('2017-10-17 00:00:00')]     0.0033      0.022      0.148      0.884      -0.043       0.049\n",
       "Date[T.Timestamp('2017-10-18 00:00:00')]     0.0272      0.022      1.228      0.233      -0.019       0.073\n",
       "Date[T.Timestamp('2017-10-19 00:00:00')]     0.0229      0.022      1.035      0.312      -0.023       0.069\n",
       "Date[T.Timestamp('2017-10-20 00:00:00')]     0.0376      0.022      1.696      0.104      -0.008       0.084\n",
       "Date[T.Timestamp('2017-10-21 00:00:00')]     0.0259      0.022      1.170      0.255      -0.020       0.072\n",
       "Date[T.Timestamp('2017-10-22 00:00:00')]     0.0229      0.022      1.032      0.313      -0.023       0.069\n",
       "Date[T.Timestamp('2017-10-23 00:00:00')]     0.0193      0.022      0.873      0.392      -0.027       0.065\n",
       "Date[T.Timestamp('2017-10-24 00:00:00')]     0.0823      0.022      3.717      0.001       0.036       0.128\n",
       "Date[T.Timestamp('2017-10-25 00:00:00')]     0.0774      0.022      3.495      0.002       0.031       0.123\n",
       "Date[T.Timestamp('2017-10-26 00:00:00')]     0.0706      0.022      3.186      0.004       0.025       0.117\n",
       "Date[T.Timestamp('2017-10-27 00:00:00')]     0.0831      0.022      3.752      0.001       0.037       0.129\n",
       "Date[T.Timestamp('2017-10-28 00:00:00')]     0.0676      0.022      3.052      0.006       0.022       0.114\n",
       "Date[T.Timestamp('2017-10-29 00:00:00')]     0.0485      0.022      2.188      0.040       0.003       0.094\n",
       "Date[T.Timestamp('2017-10-30 00:00:00')]     0.0214      0.022      0.965      0.345      -0.025       0.067\n",
       "Date[T.Timestamp('2017-10-31 00:00:00')]     0.0810      0.022      3.655      0.001       0.035       0.127\n",
       "Date[T.Timestamp('2017-11-01 00:00:00')]     0.0645      0.022      2.911      0.008       0.019       0.110\n",
       "Date[T.Timestamp('2017-11-02 00:00:00')]     0.0437      0.022      1.974      0.061      -0.002       0.090\n",
       "Treatment                                   -0.0049      0.007     -0.750      0.461      -0.018       0.009\n",
       "==============================================================================\n",
       "Omnibus:                        4.114   Durbin-Watson:                   2.921\n",
       "Prob(Omnibus):                  0.128   Jarque-Bera (JB):                1.796\n",
       "Skew:                          -0.000   Prob(JB):                        0.407\n",
       "Kurtosis:                       2.032   Cond. No.                         27.3\n",
       "==============================================================================\n",
       "\n",
       "Notes:\n",
       "[1] Standard Errors assume that the covariance matrix of the errors is correctly specified.\n",
       "\"\"\""
      ]
     },
     "execution_count": 44,
     "metadata": {},
     "output_type": "execute_result"
    }
   ],
   "source": [
    "smf.ols(\"NetConv ~ Treatment + Date\", full_data).fit().summary()"
   ]
  },
  {
   "cell_type": "markdown",
   "metadata": {},
   "source": [
    "### Exercise 12"
   ]
  },
  {
   "cell_type": "markdown",
   "metadata": {},
   "source": [
    "Not to adopt the change."
   ]
  },
  {
   "cell_type": "markdown",
   "metadata": {},
   "source": [
    "### Exercise 13"
   ]
  },
  {
   "cell_type": "code",
   "execution_count": 40,
   "metadata": {},
   "outputs": [
    {
     "data": {
      "text/html": [
       "<div>\n",
       "<style scoped>\n",
       "    .dataframe tbody tr th:only-of-type {\n",
       "        vertical-align: middle;\n",
       "    }\n",
       "\n",
       "    .dataframe tbody tr th {\n",
       "        vertical-align: top;\n",
       "    }\n",
       "\n",
       "    .dataframe thead th {\n",
       "        text-align: right;\n",
       "    }\n",
       "</style>\n",
       "<table border=\"1\" class=\"dataframe\">\n",
       "  <thead>\n",
       "    <tr style=\"text-align: right;\">\n",
       "      <th></th>\n",
       "      <th>Date</th>\n",
       "      <th>Pageviews</th>\n",
       "      <th>Clicks</th>\n",
       "      <th>Enrollments</th>\n",
       "      <th>Payments</th>\n",
       "      <th>Treatment</th>\n",
       "      <th>NetConv</th>\n",
       "      <th>GrossConv</th>\n",
       "      <th>CPT</th>\n",
       "      <th>DoW</th>\n",
       "    </tr>\n",
       "  </thead>\n",
       "  <tbody>\n",
       "    <tr>\n",
       "      <th>0</th>\n",
       "      <td>2017-10-11</td>\n",
       "      <td>7723</td>\n",
       "      <td>687</td>\n",
       "      <td>134.0</td>\n",
       "      <td>70.0</td>\n",
       "      <td>0</td>\n",
       "      <td>0.101892</td>\n",
       "      <td>0.195051</td>\n",
       "      <td>11.241630</td>\n",
       "      <td>Wednesday</td>\n",
       "    </tr>\n",
       "    <tr>\n",
       "      <th>0</th>\n",
       "      <td>2017-10-11</td>\n",
       "      <td>7716</td>\n",
       "      <td>686</td>\n",
       "      <td>105.0</td>\n",
       "      <td>34.0</td>\n",
       "      <td>1</td>\n",
       "      <td>0.049563</td>\n",
       "      <td>0.153061</td>\n",
       "      <td>11.247813</td>\n",
       "      <td>Wednesday</td>\n",
       "    </tr>\n",
       "    <tr>\n",
       "      <th>1</th>\n",
       "      <td>2017-10-12</td>\n",
       "      <td>9102</td>\n",
       "      <td>779</td>\n",
       "      <td>147.0</td>\n",
       "      <td>70.0</td>\n",
       "      <td>0</td>\n",
       "      <td>0.089859</td>\n",
       "      <td>0.188703</td>\n",
       "      <td>11.684211</td>\n",
       "      <td>Thursday</td>\n",
       "    </tr>\n",
       "    <tr>\n",
       "      <th>1</th>\n",
       "      <td>2017-10-12</td>\n",
       "      <td>9288</td>\n",
       "      <td>785</td>\n",
       "      <td>116.0</td>\n",
       "      <td>91.0</td>\n",
       "      <td>1</td>\n",
       "      <td>0.115924</td>\n",
       "      <td>0.147771</td>\n",
       "      <td>11.831847</td>\n",
       "      <td>Thursday</td>\n",
       "    </tr>\n",
       "    <tr>\n",
       "      <th>2</th>\n",
       "      <td>2017-10-13</td>\n",
       "      <td>10511</td>\n",
       "      <td>909</td>\n",
       "      <td>167.0</td>\n",
       "      <td>95.0</td>\n",
       "      <td>0</td>\n",
       "      <td>0.104510</td>\n",
       "      <td>0.183718</td>\n",
       "      <td>11.563256</td>\n",
       "      <td>Friday</td>\n",
       "    </tr>\n",
       "  </tbody>\n",
       "</table>\n",
       "</div>"
      ],
      "text/plain": [
       "        Date  Pageviews  Clicks  Enrollments  Payments  Treatment   NetConv  \\\n",
       "0 2017-10-11       7723     687        134.0      70.0          0  0.101892   \n",
       "0 2017-10-11       7716     686        105.0      34.0          1  0.049563   \n",
       "1 2017-10-12       9102     779        147.0      70.0          0  0.089859   \n",
       "1 2017-10-12       9288     785        116.0      91.0          1  0.115924   \n",
       "2 2017-10-13      10511     909        167.0      95.0          0  0.104510   \n",
       "\n",
       "   GrossConv        CPT        DoW  \n",
       "0   0.195051  11.241630  Wednesday  \n",
       "0   0.153061  11.247813  Wednesday  \n",
       "1   0.188703  11.684211   Thursday  \n",
       "1   0.147771  11.831847   Thursday  \n",
       "2   0.183718  11.563256     Friday  "
      ]
     },
     "execution_count": 40,
     "metadata": {},
     "output_type": "execute_result"
    }
   ],
   "source": [
    "import calendar\n",
    "da[\"DoW\"] = [calendar.day_name[x.weekday() ] for x in da[\"Date\"] ]\n",
    "da.head()"
   ]
  }
 ],
 "metadata": {
  "kernelspec": {
   "display_name": "Python 3",
   "language": "python",
   "name": "python3"
  },
  "language_info": {
   "codemirror_mode": {
    "name": "ipython",
    "version": 3
   },
   "file_extension": ".py",
   "mimetype": "text/x-python",
   "name": "python",
   "nbconvert_exporter": "python",
   "pygments_lexer": "ipython3",
   "version": "3.8.5"
  }
 },
 "nbformat": 4,
 "nbformat_minor": 4
}
